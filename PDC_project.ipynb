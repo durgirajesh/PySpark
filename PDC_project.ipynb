{
  "nbformat": 4,
  "nbformat_minor": 0,
  "metadata": {
    "colab": {
      "name": "PDC_project.ipynb",
      "provenance": [],
      "collapsed_sections": []
    },
    "kernelspec": {
      "name": "python3",
      "display_name": "Python 3"
    }
  },
  "cells": [
    {
      "cell_type": "code",
      "metadata": {
        "id": "TFo8VeWtfwiu",
        "colab": {
          "base_uri": "https://localhost:8080/",
          "height": 359
        },
        "outputId": "35fd61ee-d906-48ea-feff-2979b96f4f8a"
      },
      "source": [
        "boston_pd.head(10)"
      ],
      "execution_count": null,
      "outputs": [
        {
          "output_type": "execute_result",
          "data": {
            "text/html": [
              "<div>\n",
              "<style scoped>\n",
              "    .dataframe tbody tr th:only-of-type {\n",
              "        vertical-align: middle;\n",
              "    }\n",
              "\n",
              "    .dataframe tbody tr th {\n",
              "        vertical-align: top;\n",
              "    }\n",
              "\n",
              "    .dataframe thead th {\n",
              "        text-align: right;\n",
              "    }\n",
              "</style>\n",
              "<table border=\"1\" class=\"dataframe\">\n",
              "  <thead>\n",
              "    <tr style=\"text-align: right;\">\n",
              "      <th></th>\n",
              "      <th>CRIM</th>\n",
              "      <th>ZN</th>\n",
              "      <th>INDUS</th>\n",
              "      <th>CHAS</th>\n",
              "      <th>NOX</th>\n",
              "      <th>RM</th>\n",
              "      <th>AGE</th>\n",
              "      <th>DIS</th>\n",
              "      <th>RAD</th>\n",
              "      <th>TAX</th>\n",
              "      <th>PTRATIO</th>\n",
              "      <th>B</th>\n",
              "      <th>LSTAT</th>\n",
              "      <th>target</th>\n",
              "    </tr>\n",
              "  </thead>\n",
              "  <tbody>\n",
              "    <tr>\n",
              "      <th>123</th>\n",
              "      <td>0.15038</td>\n",
              "      <td>0.0</td>\n",
              "      <td>25.65</td>\n",
              "      <td>0.0</td>\n",
              "      <td>0.581</td>\n",
              "      <td>5.856</td>\n",
              "      <td>97.0</td>\n",
              "      <td>1.9444</td>\n",
              "      <td>2.0</td>\n",
              "      <td>188.0</td>\n",
              "      <td>19.1</td>\n",
              "      <td>370.31</td>\n",
              "      <td>25.41</td>\n",
              "      <td>17.3</td>\n",
              "    </tr>\n",
              "    <tr>\n",
              "      <th>485</th>\n",
              "      <td>3.67367</td>\n",
              "      <td>0.0</td>\n",
              "      <td>18.10</td>\n",
              "      <td>0.0</td>\n",
              "      <td>0.583</td>\n",
              "      <td>6.312</td>\n",
              "      <td>51.9</td>\n",
              "      <td>3.9917</td>\n",
              "      <td>24.0</td>\n",
              "      <td>666.0</td>\n",
              "      <td>20.2</td>\n",
              "      <td>388.62</td>\n",
              "      <td>10.58</td>\n",
              "      <td>21.2</td>\n",
              "    </tr>\n",
              "    <tr>\n",
              "      <th>292</th>\n",
              "      <td>0.03615</td>\n",
              "      <td>80.0</td>\n",
              "      <td>4.95</td>\n",
              "      <td>0.0</td>\n",
              "      <td>0.411</td>\n",
              "      <td>6.630</td>\n",
              "      <td>23.4</td>\n",
              "      <td>5.1167</td>\n",
              "      <td>4.0</td>\n",
              "      <td>245.0</td>\n",
              "      <td>19.2</td>\n",
              "      <td>396.90</td>\n",
              "      <td>4.70</td>\n",
              "      <td>27.9</td>\n",
              "    </tr>\n",
              "    <tr>\n",
              "      <th>421</th>\n",
              "      <td>7.02259</td>\n",
              "      <td>0.0</td>\n",
              "      <td>18.10</td>\n",
              "      <td>0.0</td>\n",
              "      <td>0.718</td>\n",
              "      <td>6.006</td>\n",
              "      <td>95.3</td>\n",
              "      <td>1.8746</td>\n",
              "      <td>24.0</td>\n",
              "      <td>666.0</td>\n",
              "      <td>20.2</td>\n",
              "      <td>319.98</td>\n",
              "      <td>15.70</td>\n",
              "      <td>14.2</td>\n",
              "    </tr>\n",
              "    <tr>\n",
              "      <th>492</th>\n",
              "      <td>0.11132</td>\n",
              "      <td>0.0</td>\n",
              "      <td>27.74</td>\n",
              "      <td>0.0</td>\n",
              "      <td>0.609</td>\n",
              "      <td>5.983</td>\n",
              "      <td>83.5</td>\n",
              "      <td>2.1099</td>\n",
              "      <td>4.0</td>\n",
              "      <td>711.0</td>\n",
              "      <td>20.1</td>\n",
              "      <td>396.90</td>\n",
              "      <td>13.35</td>\n",
              "      <td>20.1</td>\n",
              "    </tr>\n",
              "    <tr>\n",
              "      <th>42</th>\n",
              "      <td>0.14150</td>\n",
              "      <td>0.0</td>\n",
              "      <td>6.91</td>\n",
              "      <td>0.0</td>\n",
              "      <td>0.448</td>\n",
              "      <td>6.169</td>\n",
              "      <td>6.6</td>\n",
              "      <td>5.7209</td>\n",
              "      <td>3.0</td>\n",
              "      <td>233.0</td>\n",
              "      <td>17.9</td>\n",
              "      <td>383.37</td>\n",
              "      <td>5.81</td>\n",
              "      <td>25.3</td>\n",
              "    </tr>\n",
              "    <tr>\n",
              "      <th>78</th>\n",
              "      <td>0.05646</td>\n",
              "      <td>0.0</td>\n",
              "      <td>12.83</td>\n",
              "      <td>0.0</td>\n",
              "      <td>0.437</td>\n",
              "      <td>6.232</td>\n",
              "      <td>53.7</td>\n",
              "      <td>5.0141</td>\n",
              "      <td>5.0</td>\n",
              "      <td>398.0</td>\n",
              "      <td>18.7</td>\n",
              "      <td>386.40</td>\n",
              "      <td>12.34</td>\n",
              "      <td>21.2</td>\n",
              "    </tr>\n",
              "    <tr>\n",
              "      <th>131</th>\n",
              "      <td>1.19294</td>\n",
              "      <td>0.0</td>\n",
              "      <td>21.89</td>\n",
              "      <td>0.0</td>\n",
              "      <td>0.624</td>\n",
              "      <td>6.326</td>\n",
              "      <td>97.7</td>\n",
              "      <td>2.2710</td>\n",
              "      <td>4.0</td>\n",
              "      <td>437.0</td>\n",
              "      <td>21.2</td>\n",
              "      <td>396.90</td>\n",
              "      <td>12.26</td>\n",
              "      <td>19.6</td>\n",
              "    </tr>\n",
              "    <tr>\n",
              "      <th>395</th>\n",
              "      <td>8.71675</td>\n",
              "      <td>0.0</td>\n",
              "      <td>18.10</td>\n",
              "      <td>0.0</td>\n",
              "      <td>0.693</td>\n",
              "      <td>6.471</td>\n",
              "      <td>98.8</td>\n",
              "      <td>1.7257</td>\n",
              "      <td>24.0</td>\n",
              "      <td>666.0</td>\n",
              "      <td>20.2</td>\n",
              "      <td>391.98</td>\n",
              "      <td>17.12</td>\n",
              "      <td>13.1</td>\n",
              "    </tr>\n",
              "    <tr>\n",
              "      <th>399</th>\n",
              "      <td>9.91655</td>\n",
              "      <td>0.0</td>\n",
              "      <td>18.10</td>\n",
              "      <td>0.0</td>\n",
              "      <td>0.693</td>\n",
              "      <td>5.852</td>\n",
              "      <td>77.8</td>\n",
              "      <td>1.5004</td>\n",
              "      <td>24.0</td>\n",
              "      <td>666.0</td>\n",
              "      <td>20.2</td>\n",
              "      <td>338.16</td>\n",
              "      <td>29.97</td>\n",
              "      <td>6.3</td>\n",
              "    </tr>\n",
              "  </tbody>\n",
              "</table>\n",
              "</div>"
            ],
            "text/plain": [
              "        CRIM    ZN  INDUS  CHAS    NOX  ...    TAX  PTRATIO       B  LSTAT  target\n",
              "123  0.15038   0.0  25.65   0.0  0.581  ...  188.0     19.1  370.31  25.41    17.3\n",
              "485  3.67367   0.0  18.10   0.0  0.583  ...  666.0     20.2  388.62  10.58    21.2\n",
              "292  0.03615  80.0   4.95   0.0  0.411  ...  245.0     19.2  396.90   4.70    27.9\n",
              "421  7.02259   0.0  18.10   0.0  0.718  ...  666.0     20.2  319.98  15.70    14.2\n",
              "492  0.11132   0.0  27.74   0.0  0.609  ...  711.0     20.1  396.90  13.35    20.1\n",
              "42   0.14150   0.0   6.91   0.0  0.448  ...  233.0     17.9  383.37   5.81    25.3\n",
              "78   0.05646   0.0  12.83   0.0  0.437  ...  398.0     18.7  386.40  12.34    21.2\n",
              "131  1.19294   0.0  21.89   0.0  0.624  ...  437.0     21.2  396.90  12.26    19.6\n",
              "395  8.71675   0.0  18.10   0.0  0.693  ...  666.0     20.2  391.98  17.12    13.1\n",
              "399  9.91655   0.0  18.10   0.0  0.693  ...  666.0     20.2  338.16  29.97     6.3\n",
              "\n",
              "[10 rows x 14 columns]"
            ]
          },
          "metadata": {
            "tags": []
          },
          "execution_count": 4
        }
      ]
    },
    {
      "cell_type": "code",
      "metadata": {
        "id": "0R8DJfslkr81",
        "colab": {
          "base_uri": "https://localhost:8080/"
        },
        "outputId": "30e504ee-ddd8-4069-fd60-6c46af83ee5e"
      },
      "source": [
        " \n",
        " \n",
        " \n",
        "import time\n",
        "start_time = time.time()\n",
        " \n",
        " \n",
        " \n",
        "import numpy as np\n",
        "import pandas as pd\n",
        " \n",
        "# load the boston data set\n",
        "from sklearn.datasets import load_boston\n",
        "boston = load_boston()\n",
        " \n",
        "# convert to a Pandas Data Frame\n",
        "boston_pd = pd.DataFrame(data= np.c_[boston['data'],boston['target']], columns= np.append(boston['feature_names'], 'target')).sample(frac=1)\n",
        "#print(boston_pd.shape)\n",
        "#boston_pd.head(5)\n",
        " \n",
        " \n",
        " \n",
        " \n",
        "from sklearn.linear_model import LinearRegression\n",
        "from scipy.stats.stats import pearsonr\n",
        " \n",
        "# split into data and label arrays \n",
        "y = boston_pd['target']\n",
        "X = boston_pd.drop(['target'], axis=1)\n",
        " \n",
        "# create training (~80%) and test data sets\n",
        "X_train = X[:400]\n",
        "X_test = X[400:]\n",
        "y_train = y[:400]\n",
        "y_test = y[400:]\n",
        " \n",
        "# train a classifier \n",
        "lr = LinearRegression()\n",
        "model = lr.fit(X_train, y_train)\n",
        " \n",
        "# make predictions\n",
        "y_pred = model.predict(X_test)\n",
        " \n",
        "# error metrics\n",
        "r = pearsonr(y_pred, y_test)\n",
        "mae = sum(abs(y_pred - y_test))/len(y_test)\n",
        "print(\"R-sqaured: \" + str(r[0]**2))\n",
        "print(\"MAE: \" + str(mae))\n",
        "print(\"--- %s seconds ---\" % (time.time() - start_time))"
      ],
      "execution_count": null,
      "outputs": [
        {
          "output_type": "stream",
          "text": [
            "R-sqaured: 0.6795057696344922\n",
            "MAE: 3.5083015672351414\n",
            "--- 0.018313169479370117 seconds ---\n"
          ],
          "name": "stdout"
        }
      ]
    },
    {
      "cell_type": "code",
      "metadata": {
        "id": "I_KN1tqsoQNF"
      },
      "source": [
        "!apt-get install openjdk-8-jdk-headless -qq > /dev/null\n",
        "!wget -q http://downloads.apache.org/spark/spark-3.0.1/spark-3.0.1-bin-hadoop3.2.tgz\n",
        "!tar xf spark-3.0.1-bin-hadoop3.2.tgz\n",
        "!pip install -q findspark"
      ],
      "execution_count": null,
      "outputs": []
    },
    {
      "cell_type": "code",
      "metadata": {
        "id": "pdEtCA6Oomnb"
      },
      "source": [
        "import os\n",
        "os.environ[\"JAVA_HOME\"] = \"/usr/lib/jvm/java-8-openjdk-amd64\"\n",
        "os.environ[\"SPARK_HOME\"] = \"/content/spark-3.0.1-bin-hadoop3.2\""
      ],
      "execution_count": null,
      "outputs": []
    },
    {
      "cell_type": "code",
      "metadata": {
        "id": "m8RqPTRQoroh"
      },
      "source": [
        "import findspark\n",
        "findspark.init()\n",
        "from pyspark.sql import SparkSession\n",
        "spark = SparkSession.builder.master(\"local[*]\").getOrCreate()"
      ],
      "execution_count": null,
      "outputs": []
    },
    {
      "cell_type": "code",
      "metadata": {
        "id": "g1RVC9i-li8F",
        "colab": {
          "base_uri": "https://localhost:8080/",
          "height": 50
        },
        "outputId": "00224493-3985-49f5-e9ed-8c52209aded7"
      },
      "source": [
        "\n",
        "import time\n",
        "start_time = time.time()\n",
        "\n",
        "\n",
        "boston_sp = spark.createDataFrame(boston_pd)\n",
        "#display(boston_sp)\n",
        "\n",
        "\n",
        "\n",
        "from pyspark.ml.feature import VectorAssembler\n",
        "\n",
        "# split into training and test spark data frames\n",
        "boston_train = spark.createDataFrame(boston_pd[:400])\n",
        "boston_test = spark.createDataFrame(boston_pd[400:])\n",
        "\n",
        "# convert to vector representation for MLlib\n",
        "assembler = VectorAssembler(inputCols= boston_train.schema.names[:(boston_pd.shape[1] - 1)],  outputCol=\"features\" )\n",
        "boston_train = assembler.transform(boston_train).select('features', 'target') \n",
        "boston_test = assembler.transform(boston_test).select('features', 'target')\n",
        "\n",
        "\n",
        "from pyspark.ml.regression import LinearRegression\n",
        "\n",
        "# linear regression \n",
        "lr = LinearRegression(maxIter=10, regParam=0.1, elasticNetParam=0.5, labelCol=\"target\")\n",
        "\n",
        "# Fit the model\n",
        "model = lr.fit(boston_train)\n",
        "boston_pred = model.transform(boston_test)\n",
        "\n",
        "# calculate results \n",
        "r = boston_pred.stat.corr(\"prediction\", \"target\")\n",
        "#print(\"R-sqaured: \" + str(r**2))\n",
        "\n",
        "\n",
        "from pyspark.ml.tuning import CrossValidator, ParamGridBuilder\n",
        "from pyspark.ml.evaluation import RegressionEvaluator\n",
        "\n",
        "crossval = CrossValidator(estimator=LinearRegression(labelCol = \"target\"),  \n",
        "                           estimatorParamMaps=ParamGridBuilder().addGrid(LinearRegression.elasticNetParam, [0, 0.5, 1.0]).build(),\n",
        "                           evaluator=RegressionEvaluator(labelCol = \"target\", metricName = \"r2\"),\n",
        "                           numFolds=10)\n",
        "\n",
        "# cross validate the model and select the best fit\n",
        "cvModel = crossval.fit(boston_train) \n",
        "model = cvModel.bestModel\n",
        "\n",
        "# calculate results \n",
        "boston_pred = model.transform(boston_test)\n",
        "r = boston_pred.stat.corr(\"prediction\", \"target\")\n",
        "print(\"R-sqaured: \" + str(r**2))\n",
        "\n",
        "print(\"--- %s seconds ---\" % (time.time() - start_time))"
      ],
      "execution_count": null,
      "outputs": [
        {
          "output_type": "stream",
          "text": [
            "R-sqaured: 0.8013464596150444\n",
            "--- 15.441193580627441 seconds ---\n"
          ],
          "name": "stdout"
        }
      ]
    },
    {
      "cell_type": "code",
      "metadata": {
        "id": "q9R_kv96lmaY",
        "colab": {
          "base_uri": "https://localhost:8080/",
          "height": 34
        },
        "outputId": "4130125f-1d23-4872-8447-8e948c2f1fed"
      },
      "source": [
        "from pyspark.ml.feature import VectorAssembler\n",
        "\n",
        "# split into training and test spark data frames\n",
        "boston_train = spark.createDataFrame(boston_pd[:400])\n",
        "boston_test = spark.createDataFrame(boston_pd[400:])\n",
        "\n",
        "# convert to vector representation for MLlib\n",
        "assembler = VectorAssembler(inputCols= boston_train.schema.names[:(boston_pd.shape[1] - 1)],  outputCol=\"features\" )\n",
        "boston_train = assembler.transform(boston_train).select('features', 'target') \n",
        "boston_test = assembler.transform(boston_test).select('features', 'target') \n",
        "\n",
        "display(boston_train)"
      ],
      "execution_count": null,
      "outputs": [
        {
          "output_type": "display_data",
          "data": {
            "text/plain": [
              "DataFrame[features: vector, target: double]"
            ]
          },
          "metadata": {
            "tags": []
          }
        }
      ]
    },
    {
      "cell_type": "code",
      "metadata": {
        "id": "Kn-106XQrkQs",
        "colab": {
          "base_uri": "https://localhost:8080/",
          "height": 34
        },
        "outputId": "6f843e19-3a57-40d5-f831-ac7060b48385"
      },
      "source": [
        "# linear regresion with Spark\n",
        "from pyspark.ml.regression import LinearRegression\n",
        "\n",
        "# linear regression \n",
        "lr = LinearRegression(maxIter=10, regParam=0.1, elasticNetParam=0.5, labelCol=\"target\")\n",
        "\n",
        "# Fit the model\n",
        "model = lr.fit(boston_train)\n",
        "boston_pred = model.transform(boston_test)\n",
        "\n",
        "# calculate results \n",
        "r = boston_pred.stat.corr(\"prediction\", \"target\")\n",
        "print(\"R-sqaured: \" + str(r**2))"
      ],
      "execution_count": null,
      "outputs": [
        {
          "output_type": "stream",
          "text": [
            "R-sqaured: 0.6446962180002183\n"
          ],
          "name": "stdout"
        }
      ]
    },
    {
      "cell_type": "code",
      "metadata": {
        "id": "Gzcaguh1rp9D",
        "colab": {
          "base_uri": "https://localhost:8080/",
          "height": 34
        },
        "outputId": "e1d3a9a6-14bd-4b3b-87d0-e14f9b1edbdd"
      },
      "source": [
        "from pyspark.ml.tuning import CrossValidator, ParamGridBuilder\n",
        "from pyspark.ml.evaluation import RegressionEvaluator\n",
        "\n",
        "crossval = CrossValidator(estimator=LinearRegression(labelCol = \"target\"),  \n",
        "                           estimatorParamMaps=ParamGridBuilder().addGrid(LinearRegression.elasticNetParam, [0, 0.5, 1.0]).build(),\n",
        "                           evaluator=RegressionEvaluator(labelCol = \"target\", metricName = \"r2\"),\n",
        "                           numFolds=10)\n",
        "\n",
        "# cross validate the model and select the best fit\n",
        "cvModel = crossval.fit(boston_train) \n",
        "model = cvModel.bestModel\n",
        "\n",
        "# calculate results \n",
        "boston_pred = model.transform(boston_test)\n",
        "r = boston_pred.stat.corr(\"prediction\", \"target\")\n",
        "print(\"R-sqaured: \" + str(r**2))"
      ],
      "execution_count": null,
      "outputs": [
        {
          "output_type": "stream",
          "text": [
            "R-sqaured: 0.6546581566574755\n"
          ],
          "name": "stdout"
        }
      ]
    },
    {
      "cell_type": "code",
      "metadata": {
        "id": "SxMiElZ_rv1b"
      },
      "source": [
        ""
      ],
      "execution_count": null,
      "outputs": []
    }
  ]
}